{
  "nbformat": 4,
  "nbformat_minor": 0,
  "metadata": {
    "colab": {
      "name": "ST449 Report Final - Jinna Sun (201812256)",
      "provenance": [],
      "collapsed_sections": []
    },
    "kernelspec": {
      "name": "python3",
      "display_name": "Python 3"
    },
    "accelerator": "GPU"
  },
  "cells": [
    {
      "cell_type": "markdown",
      "metadata": {
        "id": "EjvYSg3yAa1d"
      },
      "source": [
        "# Measuring Political Preference with Sparse Text Classification Methods\n",
        "\n",
        "Author: Jinna Sun\n",
        "\n",
        "ID: 201812256\n"
      ]
    },
    {
      "cell_type": "markdown",
      "metadata": {
        "id": "8eOl5BKcAuYF"
      },
      "source": [
        "# Executive Summary\n",
        "\n"
      ]
    },
    {
      "cell_type": "markdown",
      "metadata": {
        "id": "qU4BVnQmCT5n"
      },
      "source": [
        "This report __aims__ to investigate different deep learning and machine learning methods to measure people's political preference given limited information. \n",
        "\n",
        "\\\\\n",
        "__Data__ will not be a lengthy document but rather a short paragraph (i.e. a tweet text). Response will either be \"Democratic\" or \"Republican\". More than 200,000 tweets of US senators are scraped from Twitter for analysis, with each considered as an observation. Text vectorisation methods are applied as well as manual procedures to extract key information (e.g. number of capital letters, sentence length, etc.). 6 key factors are used together with more than 200 selected words to form a complex predictor base. \n",
        "\n",
        "\\\\\n",
        "__In-depth analysis__ will begin with Convolutional Neural Networks (CNN), which is the core part of this report. Architecture designs are explored thoroughly including choice of convolutional layers, dense layers, dropout layers, normalisation, depth, width and activation function. Misclassification error rate on test data is calculated via the Validation Set Approach, which is later used to choose the optimal hyperparameters. Then the report will move on to Recurrent Neural Networks. A simple recurrent neural network is designed before the width parameters are selected optimally. Finally a Naive Bayes classifier, which is the most common algorithm used for text classification (Maron, 1961), is implemented for comparison. \n",
        "\n",
        "\\\\\n",
        "It is __concluded__ that CNN consisting of 1 convolutional layer and 1 dense layer, with normalisation, small filters and width has the lowest test error rate of 28.5%. "
      ]
    },
    {
      "cell_type": "markdown",
      "metadata": {
        "id": "4JI4zbYeBKTY"
      },
      "source": [
        "# Table of Contents"
      ]
    },
    {
      "cell_type": "markdown",
      "metadata": {
        "id": "5NzJ6tqKBMam"
      },
      "source": [
        "__0. Executive Summary__\n",
        "\n",
        "__1. Introduction__\n",
        "\n",
        "__2. Data Management__\n",
        "* 2.1 Data Source\n",
        "* 2.2 Text Preprocessing\n",
        "* 2.3 Text Vectorization\n",
        "\n",
        "__3. Convolutional Neural Networks__\n",
        "* 3.1 Structure Overview\n",
        "* 3.2 Minibatch Algorithm\n",
        "* 3.3 Influence of Depth\n",
        "* 3.4 Influence of Batch Normalisation\n",
        "* 3.5 Influence of Activation Function\n",
        "* 3.6 Influence of Hyper-Parameters\n",
        "* 3.7 Train the Best CNN Model with More Data\n",
        "\n",
        "__4. Recurrent Neural Networks__\n",
        "* 4.1 Simple RNN\n",
        "* 4.2 Influence of Width\n",
        "* 4.3 Train the Best RNN Model with More Data\n",
        "\n",
        "__5. Naive Bayes__\n",
        "\n",
        "__6. Conclusion__\n",
        "\n",
        "__7. Reference__"
      ]
    },
    {
      "cell_type": "markdown",
      "metadata": {
        "id": "i4adAuM7A82Y"
      },
      "source": [
        "# 1.Introduction"
      ]
    },
    {
      "cell_type": "markdown",
      "metadata": {
        "id": "VcWSWH-SBFMA"
      },
      "source": [
        "This report aims to compare different text classification methods for the purpose of measuring people's political preference with sparse data. \n",
        "\n",
        "\\\\\n",
        "Political preference does not always appear in absolute clarity for many voters. A lot of factors should be taken into account before casting a vote, including but not limited to candidates' policy proposals in economics, social, environment and national security. A vote, as a result of an integrated decision process, may require significant number of research and analysis. Deep learning and machine learning methods can serve to simplify this procedure by predicting a person's political preference based on characteristics of this person's politically related statements. A major challenge, however, is that data often come in the form of text files rather than simple numerical predictors. Number of predictors might be very huge while each observation is unlikely to contain most of the predictor words. In fact, most of the data entries are zero, leading to challenging sparsity. This report will dive deep into what methods have greater prediction accuracy. \n",
        "\n",
        "\\\\\n",
        "We will start off by making __data choice__. We need to train the model on statements with a clear political leaning so that those \"characteristics\" explaining variability can be captured. We will scrape United States senators' recent 3000 tweets from Twitter with the response variable of interest being their political party: republican or democratic. A total of more than 200,000 tweets constitute our entire data set before randomly splitting it in train and test at 9:1 ratio. Cross Validation is not used for the sake of computing speed. That is, test and train set will remain still to the end. \n",
        "\n",
        "\\\\\n",
        "Then we will move on to __selecting models__. This will be the core part of the report as in-depth analysis will be performed across Convolutional Neural Networks, Recurrent Neural Networks and Machine Learning algorithms. All models will use the same data set and same optimisation method so that comparison can be made. In this step we will run models until convergence of error rate. Mathematically it is ambigous whether converged test error rate is equivalent to converged training loss, though, still we tolerate this simplification for a faster algorithm. \n",
        "\n",
        "\\\\\n",
        "At last, we will run more iterations on our __best model__ in order to reach the lowest test error rate in view of bias-variance trade-off. We will conclude our report by comparing these different methods and reporting the error rate of our best model. "
      ]
    },
    {
      "cell_type": "markdown",
      "metadata": {
        "id": "L0JnBCGlBByj"
      },
      "source": [
        "# 2.Data Management"
      ]
    },
    {
      "cell_type": "markdown",
      "metadata": {
        "id": "6iVASBUHlSMU"
      },
      "source": [
        "## 2.1 Data Source\n",
        "\n",
        "We need two sources of data for the purpose of this report:\n",
        "* Senators' Twitter username and their corresponding political party: https://www.socialseer.com/resources/us-senator-twitter-accounts/ . Data from this website were firstly imported into a local Excel file before reading into a dataframe in Python.\n",
        "* Each Senator's most recent 3000 tweets (if they have 3000). Data from Twitter are scraped using author's own developer credentials. \n",
        "\n",
        "__Critics__: While more than 200,000 tweets seem sufficient to train a model, most of the data entries are zero because number of predictors (words) is much higher than number of words in a typical tweet. This might cause a problem of overfitting. Another potential problem with this data set is that some senators may tweet more often than others. As a result, tweets may come from different parts on the time line and result in a bias. We therefore are assuming that recent years' politicians' word choices have not shifted significantly. Additionally we also assume that these senators' tweets are indeed about political issues rather than personal lives; and that 200,000 is sufficient to distinguish among models. Although not being done here, ideally we should choose election year's data to analyse. "
      ]
    },
    {
      "cell_type": "code",
      "metadata": {
        "id": "ELGcrK50GDWv",
        "outputId": "f7da5563-08bb-4221-cb95-b59e64614b1e",
        "colab": {
          "base_uri": "https://localhost:8080/",
          "height": 90
        }
      },
      "source": [
        "#import all the packages needed for this report\n",
        "\n",
        "import tweepy \n",
        "import pandas as pd\n",
        "import re\n",
        "import numpy as np\n",
        "import os\n",
        "from google.colab import files\n",
        "import io\n",
        "\n",
        "from nltk.stem import WordNetLemmatizer\n",
        "import nltk\n",
        "nltk.download('wordnet')\n",
        "nltk.download('stopwords')  \n",
        "from nltk.corpus import stopwords  \n",
        "\n",
        "from sklearn.model_selection import train_test_split \n",
        "from sklearn.feature_extraction.text import TfidfVectorizer  \n",
        "from sklearn.datasets import load_files  \n",
        "from sklearn import model_selection, ensemble, preprocessing, linear_model, naive_bayes\n",
        "import xgboost\n",
        "\n",
        "import tensorflow as tf\n",
        "import matplotlib.pyplot as plt\n",
        "import time\n",
        "from mpl_toolkits.mplot3d import Axes3D"
      ],
      "execution_count": null,
      "outputs": [
        {
          "output_type": "stream",
          "text": [
            "[nltk_data] Downloading package wordnet to /root/nltk_data...\n",
            "[nltk_data]   Package wordnet is already up-to-date!\n",
            "[nltk_data] Downloading package stopwords to /root/nltk_data...\n",
            "[nltk_data]   Package stopwords is already up-to-date!\n"
          ],
          "name": "stdout"
        }
      ]
    },
    {
      "cell_type": "code",
      "metadata": {
        "id": "yCDjTyFzH1XL",
        "outputId": "58da1e71-e719-4a81-d4f3-b8af2696f494",
        "colab": {
          "base_uri": "https://localhost:8080/",
          "height": 74
        }
      },
      "source": [
        "#read politicians' twitter username and political party from a local file\n",
        "# uploaded = files.upload()\n",
        "df = pd.read_csv('US Senators.csv')"
      ],
      "execution_count": null,
      "outputs": [
        {
          "output_type": "stream",
          "text": [
            "/usr/local/lib/python3.6/dist-packages/IPython/core/interactiveshell.py:2718: DtypeWarning: Columns (4) have mixed types. Specify dtype option on import or set low_memory=False.\n",
            "  interactivity=interactivity, compiler=compiler, result=result)\n"
          ],
          "name": "stderr"
        }
      ]
    },
    {
      "cell_type": "code",
      "metadata": {
        "id": "Ugx6DahHD8fY",
        "outputId": "6432cd21-e21e-44c6-ed62-99cc90655949",
        "colab": {
          "base_uri": "https://localhost:8080/",
          "height": 138
        }
      },
      "source": [
        "df.head(3)"
      ],
      "execution_count": null,
      "outputs": [
        {
          "output_type": "execute_result",
          "data": {
            "text/html": [
              "<div>\n",
              "<style scoped>\n",
              "    .dataframe tbody tr th:only-of-type {\n",
              "        vertical-align: middle;\n",
              "    }\n",
              "\n",
              "    .dataframe tbody tr th {\n",
              "        vertical-align: top;\n",
              "    }\n",
              "\n",
              "    .dataframe thead th {\n",
              "        text-align: right;\n",
              "    }\n",
              "</style>\n",
              "<table border=\"1\" class=\"dataframe\">\n",
              "  <thead>\n",
              "    <tr style=\"text-align: right;\">\n",
              "      <th></th>\n",
              "      <th>Official Twitter</th>\n",
              "      <th>Adjusted Name</th>\n",
              "      <th>Political Party</th>\n",
              "    </tr>\n",
              "  </thead>\n",
              "  <tbody>\n",
              "    <tr>\n",
              "      <th>0</th>\n",
              "      <td>SenShelby</td>\n",
              "      <td>Richard Shelby</td>\n",
              "      <td>Republican</td>\n",
              "    </tr>\n",
              "    <tr>\n",
              "      <th>1</th>\n",
              "      <td>lisamurkowski</td>\n",
              "      <td>Lisa Murkowski</td>\n",
              "      <td>Republican</td>\n",
              "    </tr>\n",
              "    <tr>\n",
              "      <th>2</th>\n",
              "      <td>SenDanSullivan</td>\n",
              "      <td>Dan Sullivan</td>\n",
              "      <td>Republican</td>\n",
              "    </tr>\n",
              "  </tbody>\n",
              "</table>\n",
              "</div>"
            ],
            "text/plain": [
              "  Official Twitter   Adjusted Name Political Party\n",
              "0        SenShelby  Richard Shelby      Republican\n",
              "1    lisamurkowski  Lisa Murkowski      Republican\n",
              "2   SenDanSullivan    Dan Sullivan      Republican"
            ]
          },
          "metadata": {
            "tags": []
          },
          "execution_count": 3
        }
      ]
    },
    {
      "cell_type": "code",
      "metadata": {
        "id": "ph3YuReH_JaE"
      },
      "source": [
        "#The following code creates a function to scrape data from Twitter.\n",
        "#Twitter API information, note that this may not be shared with a third party \n",
        "#without author's consent.\n",
        "consumer_key = \"rUGPyMgFgniH0w3NbMv7Dv3Ff\"\n",
        "consumer_secret = \"TSmomr1WYpK08NmrM1wnfIgIs1SpVePynuzlvnoGCIcUhd6Y8T\"\n",
        "access_key = \"2711561539-fmZCmDbcNJJjW9AOVBoL21dOiTh5LDAROS0VIAw\"\n",
        "access_secret = \"VgGc9nHfMQ9T70n4cLxu2rL6mnwI7EYtsoU6wOmmkezMn\"\n",
        "\n",
        "\n",
        "def tweet_scraper(user,party,total,speed):\n",
        "    '''This function will scrape tweets given a username(user), total number of \n",
        "    tweets required(total) and the speed at which tweets are obtained(speed). \n",
        "    Note that user must be a string, total must be less than 3000 and speed must \n",
        "    be less than 200. It requires tweepy and pandas to run.'''\n",
        "\n",
        "    auth = tweepy.OAuthHandler(consumer_key, consumer_secret)\n",
        "    auth.set_access_token(access_key, access_secret)\n",
        "    api = tweepy.API(auth)\n",
        "\n",
        "    #initialise before while loop to scrape more\n",
        "    all_tweets = []    \n",
        "    new_tweets = api.user_timeline(screen_name = user,count=speed,\n",
        "                                   tweet_mode=\"extended\") #200 is the maximum speed\n",
        "    all_tweets.extend(new_tweets)\n",
        "    oldest = all_tweets[-1].id #store the latest tweet number\n",
        "\n",
        "    while len(new_tweets) >= 0 and len(all_tweets) < total:\n",
        "        new_tweets = api.user_timeline(screen_name = user,count=speed,\n",
        "                                       tweet_mode=\"extended\",max_id=oldest-1) \n",
        "        old_length = len(all_tweets)\n",
        "        all_tweets.extend(new_tweets)\n",
        "        new_length = len(all_tweets)\n",
        "        oldest = all_tweets[-1].id\n",
        "        if new_length-old_length==0: #break if all tweets have been downloaded\n",
        "            break\n",
        "\n",
        "    all_tweets = all_tweets[:total] #exactly 3000 tweets\n",
        "\n",
        "    output={}\n",
        "    output['Time'] = [tweet.created_at for tweet in all_tweets]\n",
        "    output['Text'] = [tweet.full_text for tweet in all_tweets]\n",
        "    output['Followers'] = [tweet.user.followers_count for tweet in all_tweets]\n",
        "    output['Time'] = [tweet.created_at for tweet in all_tweets]\n",
        "    output['Retweet'] = [tweet.retweet_count for tweet in all_tweets]\n",
        "    output['Favourite'] = [tweet.favorite_count for tweet in all_tweets]\n",
        "    output['Username'] = [user for tweet in all_tweets]\n",
        "    output['Party'] = [party for tweet in all_tweets]\n",
        "\n",
        "    output = pd.DataFrame(output)\n",
        "    return(output) "
      ],
      "execution_count": null,
      "outputs": []
    },
    {
      "cell_type": "code",
      "metadata": {
        "id": "wURxnrvx_g02"
      },
      "source": [
        "#this code takes 10 minutes to run\n",
        "\n",
        "mydt_1 = pd.DataFrame()\n",
        "for row in range(int(df.shape[0]/2)):\n",
        "    mydt_1 = mydt_1.append(tweet_scraper(df.iloc[row,0],df.iloc[row,2],3000,200))\n",
        "    #print(\"Tweets downloaded for\",df.iloc[row,0],\"is 3000. \",\"Progress:\",row/df.shape[0])"
      ],
      "execution_count": null,
      "outputs": []
    },
    {
      "cell_type": "code",
      "metadata": {
        "id": "MgZsFNCd_ij8"
      },
      "source": [
        "#please wait for 15 minutes to run this second part again due to Twitter rate limits\n",
        "#this code takes 10 minutes to run\n",
        "\n",
        "mydt_2 = pd.DataFrame()\n",
        "for row in range(int(df.shape[0]/2)+1,df.shape[0]):\n",
        "    mydt_2 = mydt_2.append(tweet_scraper(df.iloc[row,0],df.iloc[row,2],3000,200))\n",
        "    #print(\"Tweets downloaded for \",df.iloc[row,0],\"is 3000. \",\"Progress:\",row/df.shape[0])"
      ],
      "execution_count": null,
      "outputs": []
    },
    {
      "cell_type": "code",
      "metadata": {
        "id": "nU2atbvj_kf6"
      },
      "source": [
        "mydt = mydt_1.append(mydt_2)"
      ],
      "execution_count": null,
      "outputs": []
    },
    {
      "cell_type": "code",
      "metadata": {
        "id": "Lw9HgdDLwNF9",
        "outputId": "cf8b3ec3-625b-4431-8da5-792189255974",
        "colab": {
          "base_uri": "https://localhost:8080/",
          "height": 156
        }
      },
      "source": [
        "print(mydt.shape)\n",
        "mydt.head(3)"
      ],
      "execution_count": null,
      "outputs": [
        {
          "output_type": "stream",
          "text": [
            "(241898, 7)\n"
          ],
          "name": "stdout"
        },
        {
          "output_type": "execute_result",
          "data": {
            "text/html": [
              "<div>\n",
              "<style scoped>\n",
              "    .dataframe tbody tr th:only-of-type {\n",
              "        vertical-align: middle;\n",
              "    }\n",
              "\n",
              "    .dataframe tbody tr th {\n",
              "        vertical-align: top;\n",
              "    }\n",
              "\n",
              "    .dataframe thead th {\n",
              "        text-align: right;\n",
              "    }\n",
              "</style>\n",
              "<table border=\"1\" class=\"dataframe\">\n",
              "  <thead>\n",
              "    <tr style=\"text-align: right;\">\n",
              "      <th></th>\n",
              "      <th>Time</th>\n",
              "      <th>Text</th>\n",
              "      <th>Followers</th>\n",
              "      <th>Retweet</th>\n",
              "      <th>Favourite</th>\n",
              "      <th>Username</th>\n",
              "      <th>Party</th>\n",
              "    </tr>\n",
              "  </thead>\n",
              "  <tbody>\n",
              "    <tr>\n",
              "      <th>0</th>\n",
              "      <td>2019-04-21 13:22:59</td>\n",
              "      <td>Annette and I wish everyone a happy and blesse...</td>\n",
              "      <td>79791.0</td>\n",
              "      <td>4.0</td>\n",
              "      <td>52</td>\n",
              "      <td>SenShelby</td>\n",
              "      <td>Republican</td>\n",
              "    </tr>\n",
              "    <tr>\n",
              "      <th>1</th>\n",
              "      <td>2019-04-18 19:30:30</td>\n",
              "      <td>Great work happening at @UofAlabama National W...</td>\n",
              "      <td>79791.0</td>\n",
              "      <td>3.0</td>\n",
              "      <td>14</td>\n",
              "      <td>SenShelby</td>\n",
              "      <td>Republican</td>\n",
              "    </tr>\n",
              "    <tr>\n",
              "      <th>2</th>\n",
              "      <td>2019-04-18 17:47:47</td>\n",
              "      <td>I look forward to reviewing the Mueller report...</td>\n",
              "      <td>79791.0</td>\n",
              "      <td>17.0</td>\n",
              "      <td>75</td>\n",
              "      <td>SenShelby</td>\n",
              "      <td>Republican</td>\n",
              "    </tr>\n",
              "  </tbody>\n",
              "</table>\n",
              "</div>"
            ],
            "text/plain": [
              "                  Time                                               Text  \\\n",
              "0  2019-04-21 13:22:59  Annette and I wish everyone a happy and blesse...   \n",
              "1  2019-04-18 19:30:30  Great work happening at @UofAlabama National W...   \n",
              "2  2019-04-18 17:47:47  I look forward to reviewing the Mueller report...   \n",
              "\n",
              "   Followers  Retweet Favourite   Username       Party  \n",
              "0    79791.0      4.0        52  SenShelby  Republican  \n",
              "1    79791.0      3.0        14  SenShelby  Republican  \n",
              "2    79791.0     17.0        75  SenShelby  Republican  "
            ]
          },
          "metadata": {
            "tags": []
          },
          "execution_count": 4
        }
      ]
    },
    {
      "cell_type": "code",
      "metadata": {
        "id": "c0XAG2GXt5-P"
      },
      "source": [
        "#remove retweets of others' tweets, only retain user's own tweets\n",
        "mydt.index = np.arange(len(mydt))\n",
        "mydt.drop(mydt[mydt['Favourite']==0].index,inplace=True)\n",
        "mydt.drop(mydt[mydt['Party']==0].index,inplace=True)\n",
        "\n",
        "#drop na\n",
        "mydt.dropna(inplace=True)\n",
        "\n",
        "#remove irrelevant columns\n",
        "mydt.drop(labels=['Time','Followers','Retweet','Favourite'],axis=1,inplace=True)\n",
        "\n",
        "#republican=1, democratic=0\n",
        "mydt['Party'][mydt['Party']=='Republican'] = 1\n",
        "mydt['Party'][mydt['Party']=='Democratic'] = 0"
      ],
      "execution_count": null,
      "outputs": []
    },
    {
      "cell_type": "markdown",
      "metadata": {
        "id": "boo1xeWfKUq_"
      },
      "source": [
        "We have scraped 249818 tweets for analysis. After initial cleaning, 219765 of them remained. This cleansing includes these two actions:\n",
        "* Remove na's.\n",
        "* Some tweets are retweets of other user's tweet. We only want statements made by the user him/herself. These tweets typically have a 0 favourite count because all favourites go to the original tweeter. \n",
        "* Recode the response categories and remove irrelevant columns like retweet counts."
      ]
    },
    {
      "cell_type": "markdown",
      "metadata": {
        "id": "rPas762Kl-mu"
      },
      "source": [
        "## 2.2 Text Preprocessing\n",
        "\n",
        "Our predictors will be words, or more precisely real numbers mapped from each word. But some tweets contain URLs or special characters; some have punctuations or plural forms. Typical choice is to simply get rid of them with *\"re\"* package in python before moving on to vectorize the words. However, we take a different approach by adding them as predictors. We believe that \"key predictors\" of a tweet such as number of capital letters or hashtags could be very important in classifying whether someone is a republican or a democrat. Not only words themselves matter, their characteristics are also important. \n",
        "\n",
        "__6 Key Predictors__:\n",
        "\n",
        "* $\\text{Number of Hashtags}$\n",
        "* $\\text{Number of Capital Letters}$\n",
        "* $\\text{Number of URLs:}<=1$\n",
        "* $\\text{Tone}=\\text{Number of \"?\"} + \\text{Number of \"!\"}$\n",
        "* $\\text{Sentence Length}=\\text{Number of words}$\n",
        "* $\\text{Average Word Length}=\\frac{\\sum_{i=1}^{\\text{Sentence Length}} \\text{Length of Word}_i}{\\text{Sentence Length}}$\n"
      ]
    },
    {
      "cell_type": "code",
      "metadata": {
        "id": "pNxbS_8OKqCl",
        "outputId": "49237d45-5dd8-4003-e50a-3b81d92b8a30",
        "colab": {
          "base_uri": "https://localhost:8080/",
          "height": 163
        }
      },
      "source": [
        "#define a function to generate predictors for each tweet\n",
        "\n",
        "def breakdown(sen):\n",
        "    '''This function inputs a sentence and returns a dictionary with keys \n",
        "    being the variables of interest. Example: see test cases below'''\n",
        "    \n",
        "    output = {}\n",
        "\n",
        "    #find URL first (at most 1 URL) and remove it from sentence\n",
        "    start = sen.find('https:')\n",
        "    output['URL'] = [int(start!=-1)]\n",
        "    sen = re.sub(r'http\\S+', '', sen) #remove URLs\n",
        "    \n",
        "    #find Hashtag, Tone and Cap\n",
        "    output['Hashtag'] = [sen.count('#')]\n",
        "    output['Tone'] = [sen.count('!')+sen.count('?')]\n",
        "    output['Cap'] = [sum(1 for i in sen if i.isupper())]\n",
        "    \n",
        "    #find Len_S\n",
        "    words = re.sub(\"[^\\w]\", \" \",  sen).split()\n",
        "    output['Len_S'] = [len(words)]\n",
        "    \n",
        "    #find Len_W\n",
        "    words = [len(i) for i in words]\n",
        "    output['Len_W'] = [sum(words)/max(len(words),1)]\n",
        "    \n",
        "    return pd.DataFrame(output,index=['Count'])\n",
        "\n",
        "#test cases\n",
        "print('Test Case I:\\n\\\"Hello, world! #python\"\\n',breakdown('Hello, world! #python'))\n",
        "print('Test Case II:\\n\\\"the failing NYTimes!! #FAKENEWS https://t.co/JAzSE6yEes\"\\n',\n",
        "      breakdown('the failing NYTimes!! #FAKENEWS https://t.co/JAzSE6yEes'))"
      ],
      "execution_count": null,
      "outputs": [
        {
          "output_type": "stream",
          "text": [
            "Test Case I:\n",
            "\"Hello, world! #python\"\n",
            "        URL  Hashtag  Tone  Cap  Len_S     Len_W\n",
            "Count    0        1     1    1      3  5.333333\n",
            "Test Case II:\n",
            "\"the failing NYTimes!! #FAKENEWS https://t.co/JAzSE6yEes\"\n",
            "        URL  Hashtag  Tone  Cap  Len_S  Len_W\n",
            "Count    1        1     2   11      4   6.25\n"
          ],
          "name": "stdout"
        }
      ]
    },
    {
      "cell_type": "code",
      "metadata": {
        "id": "wctcW9k8gv2B",
        "outputId": "b61d3f05-326b-427b-b11e-34c1a9adeeb3",
        "colab": {
          "base_uri": "https://localhost:8080/",
          "height": 108
        }
      },
      "source": [
        "#this code takes around 10 minutes to run\n",
        "#preprocess text contents\n",
        "\n",
        "tweets = [] #store cleaned text\n",
        "key_predictors = pd.DataFrame() #store key predictors defined above\n",
        "stemmer = WordNetLemmatizer() #change plural forms into single form\n",
        "\n",
        "for row in range(mydt.shape[0]):  \n",
        "  #calculate key predictors and remove URLs\n",
        "  key_predictors = key_predictors.append(breakdown(mydt.iloc[row,0])) \n",
        "  \n",
        "  #remove special characters\n",
        "  new_text = re.sub(r'\\W', ' ', mydt.iloc[row,0])\n",
        "\n",
        "  #replace single characters by a space\n",
        "  new_text = re.sub(r'\\s+[a-zA-Z]\\s+', ' ', new_text)\n",
        "\n",
        "  #replace single characters from the start by a space\n",
        "  new_text = re.sub(r'\\^[a-zA-Z]\\s+', ' ', new_text) \n",
        "\n",
        "  #replace multiple spaces with single space\n",
        "  new_text = re.sub(r'\\s+', ' ', new_text, flags=re.I)\n",
        "\n",
        "  #converting to lowercase\n",
        "  new_text = new_text.lower()\n",
        "\n",
        "  #lemmatization: change plural forms into single form\n",
        "  new_text = new_text.split()\n",
        "  new_text = [stemmer.lemmatize(word) for word in new_text]\n",
        "  new_text = ' '.join(new_text)\n",
        "\n",
        "  tweets.append(new_text)\n",
        "  if row%(mydt.shape[0]/5)==0: print(\"Progress:\",row/mydt.shape[0])"
      ],
      "execution_count": null,
      "outputs": [
        {
          "output_type": "stream",
          "text": [
            "Progress: 0.0\n",
            "Progress: 0.2\n",
            "Progress: 0.4\n",
            "Progress: 0.6\n",
            "Progress: 0.8\n"
          ],
          "name": "stdout"
        }
      ]
    },
    {
      "cell_type": "code",
      "metadata": {
        "id": "YZ_JtiCIAl5G",
        "outputId": "38336a7a-e9fb-44bd-a3b8-083f20a7dfd2",
        "colab": {
          "base_uri": "https://localhost:8080/",
          "height": 126
        }
      },
      "source": [
        "key_predictors.index = np.arange(key_predictors.shape[0])\n",
        "print(mydt.iloc[0,0])\n",
        "print(tweets[0])\n",
        "print(key_predictors.head(3))"
      ],
      "execution_count": null,
      "outputs": [
        {
          "output_type": "stream",
          "text": [
            "Annette and I wish everyone a happy and blessed Easter. Hope you enjoy it with friends and family. He is risen! #EasterSunday\n",
            "annette and wish everyone happy and blessed easter hope you enjoy it with friend and family he is risen eastersunday\n",
            "   URL  Hashtag  Tone  Cap  Len_S     Len_W\n",
            "0    0        1     1    7     22  4.545455\n",
            "1    1        1     0   11     43  4.744186\n",
            "2    0        0     0    8     43  5.372093\n"
          ],
          "name": "stdout"
        }
      ]
    },
    {
      "cell_type": "code",
      "metadata": {
        "id": "5J9w860rTzMz",
        "outputId": "5ba9a818-4d48-47e7-b839-10c6ac1a9fa9",
        "colab": {
          "base_uri": "https://localhost:8080/",
          "height": 35
        }
      },
      "source": [
        "key_predictors.shape"
      ],
      "execution_count": null,
      "outputs": [
        {
          "output_type": "execute_result",
          "data": {
            "text/plain": [
              "(219765, 6)"
            ]
          },
          "metadata": {
            "tags": []
          },
          "execution_count": 10
        }
      ]
    },
    {
      "cell_type": "markdown",
      "metadata": {
        "id": "b7JL39s3up6o"
      },
      "source": [
        "## 2.3 Text Vectorisation\n",
        "\n",
        "While tensorflow has an elegant way of creating an embedding layer to vectorise texts, here we create this funciton mapping manually so that different deep learning and machine learning models (which use the same data) can be compared. \n",
        "\n",
        "A modification of \"__Bag of Words__\" model is used to convert tweet text into real numbers. Briefly \"Bag of Words\" model is used to count the number of appearances of each word in each text, before mapping this word to an integer related to its frequency. An apparent shortcoming of this typical langauge processing method is that it gives higher weights to longer texts than shorter ones, and that it does not consider this word's frequency in other texts. To overcome this drawback, we use an adjusted method called \"TF-IDF\", i.e. Term Frequency times Inverse Dcument Fequency where the calculations are performed as below:  \n",
        "\n",
        "$\\text{Term Frequency (TF)} = \\frac{\\text{Frequency of a word}}{\\text{Total words in the tweet}}$   \n",
        "\n",
        "$\\text{Inverse Document Frequency (IDF)} = \\frac{log(\\text{Total number of tweets})}{\\text{Number of tweets containing the word}}$  \n",
        "\n",
        "$TF\\text{-}IDF(word)=TF(word)\\times IDF(word)$  \n",
        "\n",
        "By this structure, a particular word will have a higher mapped real number if it appears more frequently in one particular tweet than all other tweet texts. It is also worth noting that we do not want words (predictors) that are heavily used by all senators/both parties, neither do we want a word to be used by one senator/party only. These two kinds of predictors will reduce our model's interpretability. Therefore, we set some boundary conditions before mapping a word into real space:  \n",
        "* Only words contained by at least 1% of the tweets will be used. \n",
        "* Only words contained by less than 70% of the tweets will be used."
      ]
    },
    {
      "cell_type": "code",
      "metadata": {
        "id": "60SL1mPFxKaH",
        "outputId": "f62522a9-9f4d-489e-d6c5-66afe3926301",
        "colab": {
          "base_uri": "https://localhost:8080/",
          "height": 90
        }
      },
      "source": [
        "#hyperparameters\n",
        "min_df=0.01\n",
        "max_df=0.7\n",
        "\n",
        "#text vectorization\n",
        "def text_map(document,min_df=min_df,max_df=max_df):\n",
        "  '''This function inputs a list of strings, and outputs a dataframe with rows \n",
        "  being each string, cols being words, and entries being vectorised number.'''\n",
        "\n",
        "  tfidfconverter = TfidfVectorizer(min_df=min_df, \n",
        "    max_df=max_df, stop_words=stopwords.words('english'))\n",
        "  return(pd.DataFrame(tfidfconverter.fit_transform(document).toarray()))\n",
        "\n",
        "#generate predictors and response data\n",
        "vectorised_words = text_map(tweets)\n",
        "X = pd.concat([key_predictors,vectorised_words],axis=1,\n",
        "       join='outer',sort=False,ignore_index =True) #first 6 cols: key predictors\n",
        "Y = mydt.iloc[:,2]\n",
        "\n",
        "#randomly split the data into train and test\n",
        "X_train,X_test,Y_train,Y_test = train_test_split(X,Y,test_size=0.1,shuffle=True)\n",
        "print(\"Train X has shape\",X_train.shape)\n",
        "print(\"Test X has shape\",X_test.shape)\n",
        "print(\"Train Y has shape\",Y_train.shape)\n",
        "print(\"Test Y has shape\",Y_test.shape)"
      ],
      "execution_count": null,
      "outputs": [
        {
          "output_type": "stream",
          "text": [
            "Train X has shape (197788, 237)\n",
            "Test X has shape (21977, 237)\n",
            "Train Y has shape (197788,)\n",
            "Test Y has shape (21977,)\n"
          ],
          "name": "stdout"
        }
      ]
    },
    {
      "cell_type": "code",
      "metadata": {
        "id": "HizsAOUdydl1",
        "outputId": "bc36475f-8812-4d4f-f1bc-9551402308f4",
        "colab": {
          "base_uri": "https://localhost:8080/",
          "height": 227
        }
      },
      "source": [
        "X_train.head()"
      ],
      "execution_count": null,
      "outputs": [
        {
          "output_type": "execute_result",
          "data": {
            "text/html": [
              "<div>\n",
              "<style scoped>\n",
              "    .dataframe tbody tr th:only-of-type {\n",
              "        vertical-align: middle;\n",
              "    }\n",
              "\n",
              "    .dataframe tbody tr th {\n",
              "        vertical-align: top;\n",
              "    }\n",
              "\n",
              "    .dataframe thead th {\n",
              "        text-align: right;\n",
              "    }\n",
              "</style>\n",
              "<table border=\"1\" class=\"dataframe\">\n",
              "  <thead>\n",
              "    <tr style=\"text-align: right;\">\n",
              "      <th></th>\n",
              "      <th>0</th>\n",
              "      <th>1</th>\n",
              "      <th>2</th>\n",
              "      <th>3</th>\n",
              "      <th>4</th>\n",
              "      <th>5</th>\n",
              "      <th>6</th>\n",
              "      <th>7</th>\n",
              "      <th>8</th>\n",
              "      <th>9</th>\n",
              "      <th>...</th>\n",
              "      <th>227</th>\n",
              "      <th>228</th>\n",
              "      <th>229</th>\n",
              "      <th>230</th>\n",
              "      <th>231</th>\n",
              "      <th>232</th>\n",
              "      <th>233</th>\n",
              "      <th>234</th>\n",
              "      <th>235</th>\n",
              "      <th>236</th>\n",
              "    </tr>\n",
              "  </thead>\n",
              "  <tbody>\n",
              "    <tr>\n",
              "      <th>112515</th>\n",
              "      <td>0</td>\n",
              "      <td>1</td>\n",
              "      <td>0</td>\n",
              "      <td>10</td>\n",
              "      <td>23</td>\n",
              "      <td>4.913043</td>\n",
              "      <td>0.0</td>\n",
              "      <td>0.0</td>\n",
              "      <td>0.0</td>\n",
              "      <td>0.0</td>\n",
              "      <td>...</td>\n",
              "      <td>0.0</td>\n",
              "      <td>0.0</td>\n",
              "      <td>0.0</td>\n",
              "      <td>0.0</td>\n",
              "      <td>0.0</td>\n",
              "      <td>0.0</td>\n",
              "      <td>0.0</td>\n",
              "      <td>0.0</td>\n",
              "      <td>0.0</td>\n",
              "      <td>0.000000</td>\n",
              "    </tr>\n",
              "    <tr>\n",
              "      <th>8602</th>\n",
              "      <td>1</td>\n",
              "      <td>0</td>\n",
              "      <td>0</td>\n",
              "      <td>11</td>\n",
              "      <td>11</td>\n",
              "      <td>5.363636</td>\n",
              "      <td>0.0</td>\n",
              "      <td>0.0</td>\n",
              "      <td>0.0</td>\n",
              "      <td>0.0</td>\n",
              "      <td>...</td>\n",
              "      <td>0.0</td>\n",
              "      <td>0.0</td>\n",
              "      <td>0.0</td>\n",
              "      <td>0.0</td>\n",
              "      <td>0.0</td>\n",
              "      <td>0.0</td>\n",
              "      <td>0.0</td>\n",
              "      <td>0.0</td>\n",
              "      <td>0.0</td>\n",
              "      <td>0.494655</td>\n",
              "    </tr>\n",
              "    <tr>\n",
              "      <th>160383</th>\n",
              "      <td>0</td>\n",
              "      <td>1</td>\n",
              "      <td>0</td>\n",
              "      <td>7</td>\n",
              "      <td>42</td>\n",
              "      <td>5.095238</td>\n",
              "      <td>0.0</td>\n",
              "      <td>0.0</td>\n",
              "      <td>0.0</td>\n",
              "      <td>0.0</td>\n",
              "      <td>...</td>\n",
              "      <td>0.0</td>\n",
              "      <td>0.0</td>\n",
              "      <td>0.0</td>\n",
              "      <td>0.0</td>\n",
              "      <td>0.0</td>\n",
              "      <td>0.0</td>\n",
              "      <td>0.0</td>\n",
              "      <td>0.0</td>\n",
              "      <td>0.0</td>\n",
              "      <td>0.000000</td>\n",
              "    </tr>\n",
              "    <tr>\n",
              "      <th>191619</th>\n",
              "      <td>0</td>\n",
              "      <td>0</td>\n",
              "      <td>1</td>\n",
              "      <td>3</td>\n",
              "      <td>17</td>\n",
              "      <td>5.117647</td>\n",
              "      <td>0.0</td>\n",
              "      <td>0.0</td>\n",
              "      <td>0.0</td>\n",
              "      <td>0.0</td>\n",
              "      <td>...</td>\n",
              "      <td>0.0</td>\n",
              "      <td>0.0</td>\n",
              "      <td>0.0</td>\n",
              "      <td>0.0</td>\n",
              "      <td>0.0</td>\n",
              "      <td>0.0</td>\n",
              "      <td>0.0</td>\n",
              "      <td>0.0</td>\n",
              "      <td>0.0</td>\n",
              "      <td>0.000000</td>\n",
              "    </tr>\n",
              "    <tr>\n",
              "      <th>187444</th>\n",
              "      <td>0</td>\n",
              "      <td>0</td>\n",
              "      <td>0</td>\n",
              "      <td>7</td>\n",
              "      <td>28</td>\n",
              "      <td>3.857143</td>\n",
              "      <td>0.0</td>\n",
              "      <td>0.0</td>\n",
              "      <td>0.0</td>\n",
              "      <td>0.0</td>\n",
              "      <td>...</td>\n",
              "      <td>0.0</td>\n",
              "      <td>0.0</td>\n",
              "      <td>0.0</td>\n",
              "      <td>0.0</td>\n",
              "      <td>0.0</td>\n",
              "      <td>0.0</td>\n",
              "      <td>0.0</td>\n",
              "      <td>0.0</td>\n",
              "      <td>0.0</td>\n",
              "      <td>0.000000</td>\n",
              "    </tr>\n",
              "  </tbody>\n",
              "</table>\n",
              "<p>5 rows × 237 columns</p>\n",
              "</div>"
            ],
            "text/plain": [
              "        0    1    2    3    4         5    6    7    8    9    ...  227  228  \\\n",
              "112515    0    1    0   10   23  4.913043  0.0  0.0  0.0  0.0  ...  0.0  0.0   \n",
              "8602      1    0    0   11   11  5.363636  0.0  0.0  0.0  0.0  ...  0.0  0.0   \n",
              "160383    0    1    0    7   42  5.095238  0.0  0.0  0.0  0.0  ...  0.0  0.0   \n",
              "191619    0    0    1    3   17  5.117647  0.0  0.0  0.0  0.0  ...  0.0  0.0   \n",
              "187444    0    0    0    7   28  3.857143  0.0  0.0  0.0  0.0  ...  0.0  0.0   \n",
              "\n",
              "        229  230  231  232  233  234  235       236  \n",
              "112515  0.0  0.0  0.0  0.0  0.0  0.0  0.0  0.000000  \n",
              "8602    0.0  0.0  0.0  0.0  0.0  0.0  0.0  0.494655  \n",
              "160383  0.0  0.0  0.0  0.0  0.0  0.0  0.0  0.000000  \n",
              "191619  0.0  0.0  0.0  0.0  0.0  0.0  0.0  0.000000  \n",
              "187444  0.0  0.0  0.0  0.0  0.0  0.0  0.0  0.000000  \n",
              "\n",
              "[5 rows x 237 columns]"
            ]
          },
          "metadata": {
            "tags": []
          },
          "execution_count": 12
        }
      ]
    },
    {
      "cell_type": "markdown",
      "metadata": {
        "id": "PiTYrlTjCYaZ"
      },
      "source": [
        "219765 observations were randomly split in 1:9 as test and train set. Number of predictors in total are 237. Among them the leftmost 6 predictors are \"key predictors\" defined in earlier sections, while the rest 231 are vectorised words. \n",
        "\n",
        "We have mentioned before that words that appear in less than 1% of these observations are not selected in avoidance of distortion of model. Still, a quick peak into this dataframe suggests that most of the entries are still zero. This is inevitable because a single tweet typically contains much fewer words than number of predictors. Based on this observation, we would expect __models with greater sparsity__ (ability to select predictors) to work better in the sense that they approximate linear system solutions with greater prediction accuracy and computational efficiency. Similarly, neural networks that aggregate information might also be desirable. "
      ]
    },
    {
      "cell_type": "markdown",
      "metadata": {
        "id": "ka6dMkiDBUF-"
      },
      "source": [
        "# 3.Convolutional Neural Networks"
      ]
    },
    {
      "cell_type": "markdown",
      "metadata": {
        "id": "98USkHZAJCYm"
      },
      "source": [
        "## 3.1 Structure Overview\n",
        "\n",
        "In this overview we look at each layer's potential benefits. After specifying some hyperparameters inside each layer, a CNN model is created via a function with the following layers passed on as arguments. \n",
        "\n",
        "__Layer Choices__:\n",
        "\n",
        "* __Number of Convolutional Layers__: number of times to include convolutional layers in the neural network. (N_conv)\n",
        "* __Max Pooling Layers__: aggregate information based on maximum criterion to be included after a convolutional layer.\n",
        "* __Number of Dense Layers__: number of transformations of the data before output. (N_dense)\n",
        "* __Dropout Layers__: randomly drop information in the training data which reduces overfitting. \n",
        "* __Normalisation__: normalise previous layer's outputs to reduce covariation which improves optimising efficiency.\n",
        "\n",
        "Our typical convolutional neural network structure is shown below, while the depth is yet to be investigated. We will pass these choices as arguments when we define our CNN function.  \n",
        "$[\\text{Convolutional}\\rightarrow \\text{Pooling}\\rightarrow \\text{Dropout}\\rightarrow \\text{Normalisation}]\\times \\text{N_conv}\\rightarrow [\\text{Dense}\\rightarrow \\text{Dropout}\\rightarrow \\text{Normalisation}]\\times \\text{N_dense}$\n",
        "\n",
        "\\\\\n",
        "__Initial Parameter Choices__:\n",
        "\n",
        "While pooling layers' parameters are arbitrarily chosen as size 2 with strides 2, we want to be more careful with convolutional and dense layers. Filters and units are set at 32 and 256 initially. In a later section we will explore the influence of different hyperparameters on error rate. \n",
        "\n",
        "Each time an additional convolutional layer is added, we double filters and decrease kernel size by 1. Generally speaking, we want the convolutional layer to aggregate information aggressively at first because raw data contain much irrelevant information. But as the neural network goes deeper, we prefer more careful and detailed convolution process to capture more data features. This is represented by __increasing filters and decreasing kernel size__. Similar logic applies to dense layers as well. Each additional dense layer will double the units, or fully connected neurons before output. \n",
        "\n",
        "Dropout rate is arbitrarily chosen at 30% and activation function is set to be rectified linear unit (__relu__) except for the very last step. Output layer is a dense layer mapping each observation into a vector of 2, which represents the likelihood of belonging to each class. We believe __sigmoid__ function would be a better choice in this last step before output. "
      ]
    },
    {
      "cell_type": "code",
      "metadata": {
        "id": "3I35Y3NVQMd0"
      },
      "source": [
        "#convolutional layer hyperparameters\n",
        "filters = 32\n",
        "kernel_size = 5\n",
        "padding = 'same'\n",
        "conv_strides = 1\n",
        "activation = tf.nn.relu\n",
        "\n",
        "#pooling layer hyperparameters\n",
        "pool_size = 2\n",
        "pool_strides = 2\n",
        "\n",
        "#dropout layer hyperparameters\n",
        "rate = 0.3\n",
        "\n",
        "#dense layer hyperparameters\n",
        "units = 256"
      ],
      "execution_count": null,
      "outputs": []
    },
    {
      "cell_type": "code",
      "metadata": {
        "id": "rni29BQ0ayYV"
      },
      "source": [
        "#This chunk creates different cnn models. \n",
        "\n",
        "def cnn(data,n_conv,n_dense,pooling,dropout,normalise,activation=activation):\n",
        "  '''This function inputs train data , all the convolutional neural network \n",
        "  parameters and outputs a vector of length 2 representing the likelihood \n",
        "  of belonging to each class.'''\n",
        "  \n",
        "  with tf.variable_scope('cnn', reuse=tf.AUTO_REUSE):\n",
        "    temp = tf.reshape(data, [-1,X_train.shape[1],1])\n",
        "    \n",
        "    #loop through convolutional layers\n",
        "    conv = 0\n",
        "    while conv < n_conv:\n",
        "      #convolutional\n",
        "      temp = tf.layers.conv1d(inputs=temp,filters=filters*(2**conv),\n",
        "                              kernel_size=kernel_size-conv,padding=padding,\n",
        "                              strides=conv_strides,activation=activation)\n",
        "      #pooling\n",
        "      if pooling: temp = tf.layers.max_pooling1d(inputs=temp,\n",
        "                               pool_size=pool_size,strides=pool_strides)\n",
        "      #dropout\n",
        "      temp = tf.layers.dropout(inputs=temp,rate=rate,training=dropout)\n",
        "      #normalisation\n",
        "      if normalise: temp = tf.layers.batch_normalization(temp)\n",
        "      conv += 1\n",
        "      \n",
        "    temp = tf.reshape(temp, [-1,temp.shape[1].value*temp.shape[2].value])  \n",
        "    \n",
        "    #loop through dense layers\n",
        "    dense = 0\n",
        "    while dense < n_dense:\n",
        "      #dense\n",
        "      temp = tf.layers.dense(inputs=temp,units=units*(2**dense),\n",
        "                             activation=activation)\n",
        "      #dropout\n",
        "      temp = tf.layers.dropout(inputs=temp,rate=rate,training=dropout)\n",
        "      #normalisation\n",
        "      if normalise: temp = tf.layers.batch_normalization(temp)\n",
        "      dense += 1\n",
        "      \n",
        "    outputs = tf.layers.dense(inputs=temp,units=2,activation=tf.sigmoid) #vector of 2\n",
        "\n",
        "  return outputs"
      ],
      "execution_count": null,
      "outputs": []
    },
    {
      "cell_type": "markdown",
      "metadata": {
        "id": "gIZ_IyxKldxu"
      },
      "source": [
        "## 3.2 Minibatch Algorithm\n",
        "\n",
        "A minibatch algorithm is implemented to improve efficiency. Train set is randomly shuffled in each epoch before running the optimiser with many batches. Optimiser is selected to be \"Adam\" with decaying learning rate for each epoch. Number of batches is set at 100 with batch size being 128. There are 197788 rows in the train data. It is thus ideal to run $\\frac{197788}{128\\times 100}=15$ epochs to be reasonably sufficient. \n",
        "\n",
        "For some deep neural networks, however, even 15 epochs can be very time-consuming and more importantly, unnecessary. Hence we will add two stopping criteria to force the algorithm to quit should the scenario occur:\n",
        "* Stop if absolute change in error rate is less than 0.005 for consecutive 4 epochs. We consider the loss to be converged in this scenario.\n",
        "* Stop if running times have exceeded 3 minutes. We do not possess a super GPU or TPU to run every network structure there is efficiently. If our model runs over 3 minutes on this 200,000-sized train set without convergence, imagine the length of time it would take in practice where we need to train the model on much more observations. Hence we will deem the model inefficient should this scenario happen.\n",
        "\n",
        "Once we have selected our best model, we will relax these stopping criteria to have better performances. \n"
      ]
    },
    {
      "cell_type": "code",
      "metadata": {
        "id": "FuA92hd9lmf1"
      },
      "source": [
        "#minibatch hyperparameters\n",
        "n_epoch = 15\n",
        "n_batches = 100\n",
        "batch_size = 128\n",
        "converge_change = 0.005\n",
        "time_stop = 60*3"
      ],
      "execution_count": null,
      "outputs": []
    },
    {
      "cell_type": "code",
      "metadata": {
        "id": "2thvR8qEtrQL"
      },
      "source": [
        "def minibatch(cnn, n_conv, n_dense, pooling, dropout, normalise,\n",
        "              n_epoch=n_epoch, n_batches=n_batches, batch_size=batch_size, \n",
        "              activation=activation, printing=True):\n",
        "  '''This function inputs a CNN as a predefined funciton with all arguments \n",
        "  passed on and outputs error rate.'''\n",
        "  \n",
        "  start = time.time()\n",
        "  tf.reset_default_graph()\n",
        "  with tf.variable_scope('cnn',reuse=tf.AUTO_REUSE):\n",
        "  \n",
        "    #create placeholder for data\n",
        "    data_x = tf.placeholder(tf.float32, shape=(batch_size,X_train.shape[1]))\n",
        "    data_y = tf.placeholder(tf.int32, shape=(batch_size, ))\n",
        "    y_label = tf.one_hot(data_y,depth=2) \n",
        "    lr = tf.placeholder(tf.float32) #learning rate\n",
        "\n",
        "    #model settings\n",
        "    y_hat = cnn(data_x,n_conv, n_dense, pooling, dropout, normalise, activation=activation)\n",
        "    loss = tf.reduce_mean(tf.nn.softmax_cross_entropy_with_logits(labels=y_label,logits=y_hat))\n",
        "    optimiser = tf.train.AdamOptimizer(lr).minimize(loss)\n",
        "\n",
        "    #predictions\n",
        "    preds = cnn(X_test.astype('float32'),n_conv, n_dense, pooling, dropout, normalise, activation=activation)\n",
        "    predictions = tf.nn.softmax(preds)\n",
        "    predictions_idx = tf.argmax(predictions, axis=1)\n",
        "\n",
        "    #initiate variables\n",
        "    sess = tf.Session()\n",
        "    sess.run(tf.global_variables_initializer())\n",
        "    sess.run(tf.local_variables_initializer())\n",
        "\n",
        "    #looping through epochs\n",
        "    top1_error_rate = []\n",
        "    for epoch in range(n_epoch):\n",
        "      if printing and epoch%(n_epoch/5)==0: print('Progress so far:',epoch/n_epoch) \n",
        "      learning_rate = 0.001/np.sqrt(epoch+1)\n",
        "      ID = np.random.permutation(np.arange(X_train.shape[0]))\n",
        "      shuffled_x = X_train.iloc[ID,:]  \n",
        "      shuffled_y = Y_train.iloc[ID,]  \n",
        "\n",
        "      #looping through batches\n",
        "      error_list = []\n",
        "      for n in range(n_batches):  \n",
        "        batch_x = shuffled_x[n * batch_size:(n + 1) * batch_size]\n",
        "        batch_y = shuffled_y[n * batch_size:(n + 1) * batch_size]\n",
        "        _, p = sess.run([optimiser, predictions_idx], feed_dict={data_x:batch_x,data_y:batch_y,lr:learning_rate})\n",
        "        #count number of errors after training each batch\n",
        "        error_list.append(np.mean(np.array(p)!=np.array(Y_test)))\n",
        "        \n",
        "      top1_error_rate.append(np.mean(error_list))\n",
        "      \n",
        "      #stop if converged\n",
        "      if epoch>=5:\n",
        "        recent = np.diff(top1_error_rate[epoch-5:epoch])\n",
        "        recent = [abs(i)<converge_change for i in recent]\n",
        "        if all(recent):\n",
        "          print('Converged after epoch:',epoch)\n",
        "          break\n",
        "          \n",
        "      #stop if inefficient\n",
        "      if time.time()-start>time_stop:\n",
        "        print('Running time exceeded time limit, Forced to stop. ')\n",
        "        break\n",
        "      \n",
        "\n",
        "  if printing: print('Running time:',time.time()-start,'seconds')\n",
        "  return(top1_error_rate)"
      ],
      "execution_count": null,
      "outputs": []
    },
    {
      "cell_type": "markdown",
      "metadata": {
        "id": "MwkgIJ7duisY"
      },
      "source": [
        "## 3.3 Influence of Depth\n",
        "\n",
        "Deeper networks increase the model's flexibility at a cost of its accuracy. This is similar to the bias-variance trade-off in machine learning terms. Deeper networks tend to explore the train set more (with a low train error rate) but end up in worse-off test error rates. For this reason, we will take remedial measures to prevent the network from overfitting. 2 convolutional layers or more will come with a maximum pooling layer right after it to lose some information. 3 convolutional layers will additionally add a dropout layer to reduce burden. Same dropout structure applies for dense layer depth as well. To test the impact of convolutional and dense layers, we use these 9 different neural networks:  \n",
        "\n",
        "__1 Dense Layer__  \n",
        "$CNN_1=[Convolutional]\\times 1\\rightarrow [Dense]\\times 1$  \n",
        "$CNN_2=[Convolutional+ Pooling]\\times 2\\rightarrow  [Dense]\\times 1$  \n",
        "$CNN_3=[Convolutional+ Pooling+ Dropout]\\times 3\\rightarrow [Dense+ Dropout]\\times 1$  \n",
        "\n",
        "__2 Dense Layers__  \n",
        "$CNN_4=[Convolutional]\\times 1\\rightarrow [Dense]\\times 2$  \n",
        "$CNN_5=[Convolutional+ Pooling]\\times 2\\rightarrow [Dense]\\times 2$  \n",
        "$CNN_6=[Convolutional+ Pooling+ Dropout]\\times 3\\rightarrow [Dense+ Dropout]\\times 2$  \n",
        "\n",
        "__3 Dense Layers__  \n",
        "$CNN_7=[Convolutional]\\times 1\\rightarrow [Dense]\\times 3$  \n",
        "$CNN_8=[Convolutional+ Pooling]\\times 2\\rightarrow [Dense]\\times 3$  \n",
        "$CNN_9=[Convolutional+ Pooling+ Dropout]\\times 3\\rightarrow [Dense+ Dropout]\\times 3$  "
      ]
    },
    {
      "cell_type": "code",
      "metadata": {
        "id": "OgNpqURKKkyM",
        "outputId": "bd78f016-a96d-4a3d-c94b-d398e9d5df60",
        "colab": {
          "base_uri": "https://localhost:8080/",
          "height": 706
        }
      },
      "source": [
        "error1 = minibatch(cnn,n_conv=1, n_dense=1, pooling=False, dropout=False, normalise=False)\n",
        "error2 = minibatch(cnn,n_conv=2, n_dense=1, pooling=True, dropout=False, normalise=False)\n",
        "error3 = minibatch(cnn,n_conv=3, n_dense=1, pooling=True, dropout=True, normalise=False)\n",
        "error4 = minibatch(cnn,n_conv=1, n_dense=2, pooling=False, dropout=False, normalise=False)\n",
        "error5 = minibatch(cnn,n_conv=2, n_dense=2, pooling=True, dropout=False, normalise=False)\n",
        "error6 = minibatch(cnn,n_conv=3, n_dense=2, pooling=True, dropout=True, normalise=False)\n",
        "error7 = minibatch(cnn,n_conv=1, n_dense=3, pooling=False, dropout=False, normalise=False)\n",
        "error8 = minibatch(cnn,n_conv=2, n_dense=3, pooling=True, dropout=False, normalise=False)\n",
        "error9 = minibatch(cnn,n_conv=3, n_dense=3, pooling=True, dropout=True, normalise=False)"
      ],
      "execution_count": null,
      "outputs": [
        {
          "output_type": "stream",
          "text": [
            "Progress so far: 0.0\n",
            "Progress so far: 0.2\n",
            "Converged after epoch: 7\n",
            "Running time: 41.295252084732056 seconds\n",
            "Progress so far: 0.0\n",
            "Progress so far: 0.2\n",
            "Progress so far: 0.4\n",
            "Converged after epoch: 9\n",
            "Running time: 106.34943652153015 seconds\n",
            "Progress so far: 0.0\n",
            "Progress so far: 0.2\n",
            "Converged after epoch: 7\n",
            "Running time: 165.95756220817566 seconds\n",
            "Progress so far: 0.0\n",
            "Progress so far: 0.2\n",
            "Converged after epoch: 7\n",
            "Running time: 42.24881196022034 seconds\n",
            "Progress so far: 0.0\n",
            "Progress so far: 0.2\n",
            "Progress so far: 0.4\n",
            "Converged after epoch: 8\n",
            "Running time: 97.98082971572876 seconds\n",
            "Progress so far: 0.0\n",
            "Progress so far: 0.2\n",
            "Progress so far: 0.4\n",
            "Converged after epoch: 8\n",
            "Running time: 190.3173370361328 seconds\n",
            "Progress so far: 0.0\n",
            "Progress so far: 0.2\n",
            "Converged after epoch: 6\n",
            "Running time: 42.37488913536072 seconds\n",
            "Progress so far: 0.0\n",
            "Progress so far: 0.2\n",
            "Progress so far: 0.4\n",
            "Converged after epoch: 9\n",
            "Running time: 116.34682703018188 seconds\n",
            "Progress so far: 0.0\n",
            "Progress so far: 0.2\n",
            "Progress so far: 0.4\n",
            "Running time exceeded 3 min limit, Forced to stop. \n",
            "Running time: 200.18445801734924 seconds\n"
          ],
          "name": "stdout"
        }
      ]
    },
    {
      "cell_type": "code",
      "metadata": {
        "id": "ECe7UsN6G9y6",
        "outputId": "a12fc9dc-e843-4227-f1a3-442670e193e3",
        "colab": {
          "base_uri": "https://localhost:8080/",
          "height": 421
        }
      },
      "source": [
        "#influence of depth\n",
        "plt.figure(figsize=(15,6))\n",
        "plt.plot(error1,color='red');plt.plot(error2,linestyle='--',color='red');plt.plot(error3,linestyle=':',color='red')\n",
        "plt.plot(error4,color='blue');plt.plot(error5,linestyle='--',color='blue');plt.plot(error6,linestyle=':',color='blue')\n",
        "plt.plot(error7,color='green');plt.plot(error8,linestyle='--',color='green');plt.plot(error9,linestyle=':',color='green')\n",
        "plt.ylabel(\"Error Rate\")\n",
        "plt.xlabel(\"No. of Epoch\")\n",
        "plt.title(\"Different Number of Convolutional and Dense Layers: Error Rate\")\n",
        "plt.legend(['cnn'+str(i) for i in range(1,10)])"
      ],
      "execution_count": null,
      "outputs": [
        {
          "output_type": "execute_result",
          "data": {
            "text/plain": [
              "<matplotlib.legend.Legend at 0x7f5eb5e77d68>"
            ]
          },
          "metadata": {
            "tags": []
          },
          "execution_count": 80
        },
        {
          "output_type": "display_data",
          "data": {
            "image/png": "[encoded data removed]",
            "text/plain": [
              "<Figure size 1080x432 with 1 Axes>"
            ]
          },
          "metadata": {
            "tags": []
          }
        }
      ]
    },
    {
      "cell_type": "markdown",
      "metadata": {
        "id": "UxJ6ajdKVJeN"
      },
      "source": [
        "__Discussion of Graph__:  \n",
        "* The graph above shows differences between neural networks with different depth. Note that lines with the __same colour__ have the same number of dense layers, while lines with the __same line type__ have the same number of convolutional layers. Our algorithm is designed to stop after convergence has been reached, hence not all lines have the same length. \n",
        "* We can conclude that __the fewer convolutional layers there are, the better prediction accuracy will be__. It can be observed that cnn1, cnn4 and cnn7 significantly outperform the rest with a lower misclassification error rate. They all have 1 convolutional layer. Among them cnn7 with the most dense layers has the best performance. Only 1 convolutional layer is needed. \n",
        "* __To what extent is this conclusion valid?__ It appears that for this data set, additional convolutional layers, even with pooling and dropout, tend to make unnecessary transformations and overfit the training data. The negative impact on prediction accuracy might even be increasing at an increasing rate. This might arise from the potential fact that there is just not much \"characteristics\" in the data for us to capture, which is reasonable if you think about how sparse our training set is. Or this might be a consequence of too aggressive pooling and dropouts resulting in under-fitting. If we decrease the pooling size and strides, or decrease the dropout rate, we might end up with some different results.\n",
        "\n",
        "__More Dense Layers__:  \n",
        "Notice that for CNN9 with 3 dense layers, the algorithm fails to converge and is forced to stop when the time exceeds 3 min. Logically speaking, this model might converge to some lower error rates if we let it. Sometimes more dense layers can indeed have improvements in prediciton accuracy. But they heavily increase running time. The following analysis verifies this point and investigates in detail about this accuracy-efficiency trade off.  \n",
        "$CNN_{10}=[Convolutional]\\times 1\\rightarrow [Dense]\\times 4$  \n",
        "$CNN_{11}=[Convolutional]\\times 1\\rightarrow [Dense]\\times 5$  \n",
        "$CNN_{12}=[Convolutional]\\times 1\\rightarrow [Dense]\\times 6$  \n",
        "$CNN_{13}=[Convolutional]\\times 1\\rightarrow [Dense]\\times 7$  "
      ]
    },
    {
      "cell_type": "code",
      "metadata": {
        "id": "I9RzL9brMcYS",
        "outputId": "9361647c-ad2a-46b5-88b1-6ce5cebb2f59",
        "colab": {
          "base_uri": "https://localhost:8080/",
          "height": 269
        }
      },
      "source": [
        "error10 = minibatch(cnn,n_conv=1, n_dense=4, pooling=False, dropout=False, normalise=False)\n",
        "error11 = minibatch(cnn,n_conv=1, n_dense=5, pooling=False, dropout=False, normalise=False)\n",
        "error12 = minibatch(cnn,n_conv=1, n_dense=6, pooling=False, dropout=False, normalise=False)\n",
        "error13 = minibatch(cnn,n_conv=1, n_dense=7, pooling=False, dropout=False, normalise=False)"
      ],
      "execution_count": null,
      "outputs": [
        {
          "output_type": "stream",
          "text": [
            "Progress so far: 0.0\n",
            "Progress so far: 0.2\n",
            "Converged after epoch: 7\n",
            "Running time: 71.0642499923706 seconds\n",
            "Progress so far: 0.0\n",
            "Progress so far: 0.2\n",
            "Progress so far: 0.4\n",
            "Converged after epoch: 8\n",
            "Running time: 162.8536605834961 seconds\n",
            "Progress so far: 0.0\n",
            "Running time exceeded 3 min limit, Forced to stop. \n",
            "Running time: 227.03927540779114 seconds\n",
            "Progress so far: 0.0\n",
            "Running time exceeded 3 min limit, Forced to stop. \n",
            "Running time: 205.86750316619873 seconds\n"
          ],
          "name": "stdout"
        }
      ]
    },
    {
      "cell_type": "code",
      "metadata": {
        "id": "2gypaEI3WI6Y",
        "outputId": "9f1efec3-58fd-4369-9453-d8441d69eb08",
        "colab": {
          "base_uri": "https://localhost:8080/",
          "height": 312
        }
      },
      "source": [
        "#influence of number of dense layers\n",
        "plt.figure(figsize=(10,4))\n",
        "plt.plot(error1,color='red')\n",
        "plt.plot(error10,linestyle='--',color='blue')\n",
        "plt.plot(error11,linestyle=':',color='red')\n",
        "plt.plot(error12,linestyle='-.',color='green')\n",
        "plt.plot(error13,linestyle='-',color='black')\n",
        "\n",
        "plt.ylabel(\"Error Rate\")\n",
        "plt.xlabel(\"No. of Epoch\")\n",
        "plt.title(\"1 Convolutional Layer and Difference Number of Dense Layers: Error Rate\")\n",
        "plt.legend(['cnn1','cnn10','cnn11','cnn12','cnn13'])"
      ],
      "execution_count": null,
      "outputs": [
        {
          "output_type": "execute_result",
          "data": {
            "text/plain": [
              "<matplotlib.legend.Legend at 0x7f5eb529ab70>"
            ]
          },
          "metadata": {
            "tags": []
          },
          "execution_count": 84
        },
        {
          "output_type": "display_data",
          "data": {
            "image/png": "[encoded data removed]",
            "text/plain": [
              "<Figure size 720x288 with 1 Axes>"
            ]
          },
          "metadata": {
            "tags": []
          }
        }
      ]
    },
    {
      "cell_type": "markdown",
      "metadata": {
        "id": "MSSmbOaXTs6y"
      },
      "source": [
        "Each addtional dense layer increases the running time at an exponential rate with little or no improvement in prediction accuracy. It is thus unnecessary to add more than 1 dense layers. We conclude that our best model so far is:\n",
        "\n",
        "$CNN_1=[Convolutional]\\times 1\\rightarrow [Dense]\\times 1$  "
      ]
    },
    {
      "cell_type": "markdown",
      "metadata": {
        "id": "FeddA2zhsTeZ"
      },
      "source": [
        "## 3.4 Influence of Batch Normalisation\n",
        "\n",
        "Normalisation might sometimes reduce covariation in the data set and potentially have better fit. This is especially the case when data values vary a lot in absolute terms which distorts the coefficient. But for our data most of the values remain between 0 and 100. We do not expect normalisation to be very helpful considering this extra step might also increase run time. We compare our so-far best model $CNN_1$ with an additional normalised procedure after both convolutional and dense layer. There has been empirical evidence how dropout layers should be used together with normalisation __(Li, Chen 2018)__. Hence we test it with an additional dropout layer as well. \n",
        "\n",
        "$CNN_{14}=[Convolutional\\rightarrow Normalise]\\times 1\\rightarrow [Dense\\rightarrow Normalise]\\times 1$  \n",
        "\n",
        "$CNN_{15}=[Convolutional\\rightarrow Dropout\\rightarrow Normalise]\\times 1\\rightarrow [Dense\\rightarrow Dropout\\rightarrow Normalise]\\times 1$  \n"
      ]
    },
    {
      "cell_type": "code",
      "metadata": {
        "id": "R9XnpEaBuKKl",
        "outputId": "8a0818bb-1e6e-412b-8e2c-6f3e203a06b9",
        "colab": {
          "base_uri": "https://localhost:8080/",
          "height": 185
        }
      },
      "source": [
        "error14 = minibatch(cnn,n_conv=1, n_dense=1, pooling=False, dropout=False, normalise=True)\n",
        "error15 = minibatch(cnn,n_conv=1, n_dense=1, pooling=False, dropout=True, normalise=True)"
      ],
      "execution_count": null,
      "outputs": [
        {
          "output_type": "stream",
          "text": [
            "Progress so far: 0.0\n",
            "Progress so far: 0.2\n",
            "Progress so far: 0.4\n",
            "Converged after epoch: 7\n",
            "Running time: 51.36625909805298 seconds\n",
            "Progress so far: 0.0\n",
            "Progress so far: 0.2\n",
            "Progress so far: 0.4\n",
            "Converged after epoch: 8\n",
            "Running time: 79.92769622802734 seconds\n"
          ],
          "name": "stdout"
        }
      ]
    },
    {
      "cell_type": "code",
      "metadata": {
        "id": "DSg1bIhnYmFh",
        "outputId": "17a3ede1-8415-4b1b-be29-c29a4888df08",
        "colab": {
          "base_uri": "https://localhost:8080/",
          "height": 312
        }
      },
      "source": [
        "#influence of batch normalisation\n",
        "plt.figure(figsize=(10,4))\n",
        "plt.plot(error1,color='red')\n",
        "plt.plot(error14,linestyle='--',color='blue')\n",
        "plt.plot(error15,linestyle='-.',color='green')\n",
        "\n",
        "plt.ylabel(\"Error Rate\")\n",
        "plt.xlabel(\"No. of Epoch\")\n",
        "plt.title(\"Effect of Normalisation\")\n",
        "plt.legend(['Without Normalisation','With Normalisation',\n",
        "            'With Normalisation and Dropout'])"
      ],
      "execution_count": null,
      "outputs": [
        {
          "output_type": "execute_result",
          "data": {
            "text/plain": [
              "<matplotlib.legend.Legend at 0x7f5ea05c9d68>"
            ]
          },
          "metadata": {
            "tags": []
          },
          "execution_count": 98
        },
        {
          "output_type": "display_data",
          "data": {
            "image/png": "[encoded data removed]",
            "text/plain": [
              "<Figure size 720x288 with 1 Axes>"
            ]
          },
          "metadata": {
            "tags": []
          }
        }
      ]
    },
    {
      "cell_type": "markdown",
      "metadata": {
        "id": "lpSyddNfxDYT"
      },
      "source": [
        "Contrary to our expectation, it can be observed that batch normalisation might actually increase the performance slightly, although it is very arguable due to minibatch's algorithm's stochastic nature. Run time is not increased by a lot, only 10 seconds. Dropout layers used together with batch normalisation is definitely not helping. We hence conclude that our best model so far is:\n",
        "\n",
        "$CNN_{14}=[Convolutional\\rightarrow Normalise]\\times 1\\rightarrow [Dense\\rightarrow Normalise]\\times 1$  "
      ]
    },
    {
      "cell_type": "markdown",
      "metadata": {
        "id": "2fjaRfdsxe07"
      },
      "source": [
        "## 3.5 Influence of Activation Function\n",
        "\n",
        "Activation funciton can have significant impact on our data set. But there is no universal rule on which activation funciton will have the best quality. For previous neural networks, we used a rectified linear function. Now we test two additional activation functions: linear and tangent hyperbolic. \n",
        "\n",
        "$CNN_{16}=[Convolutional\\rightarrow Normalise]\\times 1\\rightarrow [Dense\\rightarrow Normalise]\\times 1 \\text{   with Linear Activation}$  \n",
        "\n",
        "$CNN_{17}=[Convolutional\\rightarrow Normalise]\\times 1\\rightarrow [Dense\\rightarrow Normalise]\\times 1 \\text{   with Tangent Hyperbolic Activation}$  \n",
        "\n"
      ]
    },
    {
      "cell_type": "code",
      "metadata": {
        "id": "lxZI9Ex0KaOs",
        "outputId": "03e72f94-c2cf-4f1b-ec1d-a961f4b4369e",
        "colab": {
          "base_uri": "https://localhost:8080/",
          "height": 217
        }
      },
      "source": [
        "error16 = minibatch(cnn,n_conv=1, n_dense=1, pooling=False, dropout=False, normalise=True, activation=None)\n",
        "error17 = minibatch(cnn,n_conv=1, n_dense=1, pooling=False, dropout=False, normalise=True, activation=tf.nn.tanh)"
      ],
      "execution_count": null,
      "outputs": [
        {
          "output_type": "stream",
          "text": [
            "Progress so far: 0.0\n",
            "Progress so far: 0.2\n",
            "Progress so far: 0.4\n",
            "Progress so far: 0.6\n",
            "Progress so far: 0.8\n",
            "Running time: 85.7122483253479 seconds\n",
            "Progress so far: 0.0\n",
            "Progress so far: 0.2\n",
            "Progress so far: 0.4\n",
            "Converged after epoch: 7\n",
            "Running time: 52.317174673080444 seconds\n"
          ],
          "name": "stdout"
        }
      ]
    },
    {
      "cell_type": "code",
      "metadata": {
        "id": "LbW68_5lL1IZ",
        "outputId": "8d2b5c81-15af-4278-f420-53d04db33342",
        "colab": {
          "base_uri": "https://localhost:8080/",
          "height": 314
        }
      },
      "source": [
        "#influence of activation function\n",
        "plt.figure(figsize=(15,4))\n",
        "plt.subplot(1,2,1)\n",
        "plt.plot(error14,color='red')\n",
        "plt.plot(error16,linestyle='--',color='blue')\n",
        "plt.plot(error17,linestyle='-.',color='green')\n",
        "plt.ylabel(\"Error Rate\")\n",
        "plt.xlabel(\"No. of Epoch\")\n",
        "plt.title(\"Different Activation Function: Error Rate\")\n",
        "plt.legend(['Rectified Linear Unit','Linear','Tangent Hyperbolic'])\n",
        "\n",
        "plt.subplot(1,2,2)\n",
        "plt.plot(error14,color='red')\n",
        "plt.plot(error17,linestyle='-.',color='green')\n",
        "plt.ylabel(\"Error Rate\")\n",
        "plt.xlabel(\"No. of Epoch\")\n",
        "plt.title(\"Different Activation Function: Error Rate\")\n",
        "plt.legend(['Rectified Linear Unit','Tangent Hyperbolic'])"
      ],
      "execution_count": null,
      "outputs": [
        {
          "output_type": "execute_result",
          "data": {
            "text/plain": [
              "<matplotlib.legend.Legend at 0x7f5eb5ebcd68>"
            ]
          },
          "metadata": {
            "tags": []
          },
          "execution_count": 112
        },
        {
          "output_type": "display_data",
          "data": {
            "image/png": "[encoded data removed]",
            "text/plain": [
              "<Figure size 1080x288 with 2 Axes>"
            ]
          },
          "metadata": {
            "tags": []
          }
        }
      ]
    },
    {
      "cell_type": "markdown",
      "metadata": {
        "id": "HGQENv11zPbn"
      },
      "source": [
        "The stopping criterion of convergence causes these three lines to have different lengths. But we can still tell how tangent hyperbolic tends to have lower error rates in almost every epoch. Research __(Karlik,B 2011)__ has suggested similar result. We hence conclude that our so-far best model is: \n",
        "\n",
        "$CNN_{17}=[Convolutional\\rightarrow Normalise]\\times 1\\rightarrow [Dense\\rightarrow Normalise]\\times 1 \\text{   with Tangent Hyperbolic Activation}$  "
      ]
    },
    {
      "cell_type": "markdown",
      "metadata": {
        "id": "oOA-bKBOMus0"
      },
      "source": [
        "## 3.6 Influence of Hyper-Parameters\n",
        "\n",
        "Now that we have chosen the best structure of this neural network, we can investigate further on how hyperparameters can affect prediction accuracy. Key parameters influencing convolutional and dense layers are __filter__ and __units__ respectively. While there are other parameters such as kernel size or padding, we do not investigate them in this report. For kernel size, we mentioned earlier (intuitively) how a decreasing kernel size with deeper layers can have potential benefits. On the other hand, for padding choices which mainly affect edges of the data, the difference is believed to be insignificant considering the 1 dimension data we have. \n",
        "\n"
      ]
    },
    {
      "cell_type": "code",
      "metadata": {
        "id": "7NMqsspvLHM1"
      },
      "source": [
        "#reset stopping time limit to run faster\n",
        "time_stop = 60 #1 minute"
      ],
      "execution_count": null,
      "outputs": []
    },
    {
      "cell_type": "code",
      "metadata": {
        "id": "BB6U094L3V2L"
      },
      "source": [
        "#This code takes an hour to run.\n",
        "filter_space = [16,32,64,128]\n",
        "unit_space = [16,32,64,128,256,512,1024,2048]\n",
        "param = np.zeros([len(filter_space),len(unit_space)])\n",
        "\n",
        "for i,filters_ in enumerate(filter_space):\n",
        "  for j,units_ in enumerate(unit_space):\n",
        "    print('Total Progress:',(i*len(filter_space)+j)/len(unit_space)**2)\n",
        "    \n",
        "    #reset parameters\n",
        "    filters = filters_\n",
        "    units = units_\n",
        "    param[i,j] = minibatch(cnn,n_conv=1, n_dense=1, pooling=False,dropout=False,\n",
        "                       normalise=True, activation=tf.nn.tanh,printing=False)[-1]"
      ],
      "execution_count": null,
      "outputs": []
    },
    {
      "cell_type": "code",
      "metadata": {
        "id": "YW5TggAz8RHE",
        "outputId": "7c421589-0888-4d24-ce92-a7df4aa2e31a",
        "colab": {
          "base_uri": "https://localhost:8080/",
          "height": 163
        }
      },
      "source": [
        "param"
      ],
      "execution_count": null,
      "outputs": [
        {
          "output_type": "execute_result",
          "data": {
            "text/plain": [
              "array([[0.3076985 , 0.30914138, 0.30962734, 0.31032534, 0.30854985,\n",
              "        0.31032989, 0.30954543, 0.31219548],\n",
              "       [0.3079838 , 0.30832825, 0.30928653, 0.30924648, 0.31101606,\n",
              "        0.30985894, 0.44810666, 0.31475907],\n",
              "       [0.31013423, 0.31054512, 0.31104154, 0.31008054, 0.31036356,\n",
              "        0.31485599, 0.49219684, 0.48677982],\n",
              "       [0.31321245, 0.31286754, 0.31397279, 0.31453929, 0.31583019,\n",
              "        0.33413887, 0.49074032, 0.50839878]])"
            ]
          },
          "metadata": {
            "tags": []
          },
          "execution_count": 171
        }
      ]
    },
    {
      "cell_type": "code",
      "metadata": {
        "id": "d6fbGEpxvwsT",
        "outputId": "764c3fa0-76c7-49d0-9624-7151fcc58f3e",
        "colab": {
          "base_uri": "https://localhost:8080/",
          "height": 375
        }
      },
      "source": [
        "#influence of hyperparameters\n",
        "filter_space = [16,32,64,128]\n",
        "unit_space = [16,32,64,128,256,512,1024,2048]\n",
        "fig = plt.figure(figsize=(15,6))\n",
        "ax = fig.add_subplot(111, projection='3d')\n",
        "x = [np.log(i)/np.log(2) for i in filter_space]\n",
        "y = [np.log(i)/np.log(2) for i in unit_space[:-2]] #trim unconverged models\n",
        "X, Y = np.meshgrid(x, y)\n",
        "Z = param[:,:-2].transpose()\n",
        "ax.plot_surface(X,Y,Z,cmap='viridis')\n",
        "ax.set_xlabel('Convolutional Layer Filter - Log Scale')\n",
        "ax.set_ylabel('Dense Layer Units - Log Scale')\n",
        "ax.set_zlabel('Error Rate after 6 Epochs')"
      ],
      "execution_count": null,
      "outputs": [
        {
          "output_type": "execute_result",
          "data": {
            "text/plain": [
              "Text(0.5, 0, 'Error Rate after 6 Epochs')"
            ]
          },
          "metadata": {
            "tags": []
          },
          "execution_count": 26
        },
        {
          "output_type": "display_data",
          "data": {
            "image/png": "[encoded data removed]",
            "text/plain": [
              "<Figure size 1080x432 with 1 Axes>"
            ]
          },
          "metadata": {
            "tags": []
          }
        }
      ]
    },
    {
      "cell_type": "code",
      "metadata": {
        "id": "0Y4FdldD4rsI",
        "outputId": "771ffe68-1601-485f-e94b-a21e96ca305f",
        "colab": {
          "base_uri": "https://localhost:8080/",
          "height": 35
        }
      },
      "source": [
        "print(\"The best CNN Model is the one with row %s and col %s\"\n",
        "      % np.where(param==np.min(param)))"
      ],
      "execution_count": null,
      "outputs": [
        {
          "output_type": "stream",
          "text": [
            "The best CNN Model is the one with row [0] and col [0]\n"
          ],
          "name": "stdout"
        }
      ]
    },
    {
      "cell_type": "markdown",
      "metadata": {
        "id": "gx0lIzQA8oBL"
      },
      "source": [
        "Now we can conclude that the best CNN is:\n",
        "\n",
        "$$CNN_{best}=[Convolutional\\rightarrow Normalise]\\times 1\\rightarrow [Dense\\rightarrow Normalise]\\times 1 \\\\ \\text{   with Tangent Hyperbolic Activation, Convolutional Filter=16,Dense Units=16}$$"
      ]
    },
    {
      "cell_type": "markdown",
      "metadata": {
        "id": "Hz0GwhQq55xV"
      },
      "source": [
        "## 3.7 Train the best CNN Model with More Data\n",
        "\n",
        "Now let's train this best model on more batches and epochs to achieve best performance. "
      ]
    },
    {
      "cell_type": "code",
      "metadata": {
        "id": "OI2IZ4V_58_z",
        "outputId": "37a1f92b-1662-4210-f1b7-238dbdc3dcb1",
        "colab": {
          "base_uri": "https://localhost:8080/",
          "height": 126
        }
      },
      "source": [
        "#This code chunk takes about 1 hour to run\n",
        "#reset all parameters to be the optimal ones\n",
        "\n",
        "#convolutional layer hyperparameters\n",
        "filters = 16\n",
        "kernel_size = 5\n",
        "padding = 'same'\n",
        "conv_strides = 1\n",
        "activation = tf.nn.tanh\n",
        "\n",
        "#dense layer hyperparameters\n",
        "units = 16\n",
        "\n",
        "#minibatch hyperparameters\n",
        "n_epoch = 50\n",
        "n_batches = int(X_train.shape[0]/128)\n",
        "batch_size = 128\n",
        "converge_change = 0 #remove convergence criterion\n",
        "time_stop = 10000000 #do not stop until finished\n",
        "\n",
        "error_best = minibatch(cnn,n_conv=1, n_dense=1, pooling=False,dropout=False,\n",
        "                       normalise=True, activation=tf.nn.tanh,printing=True,\n",
        "                      n_epoch=n_epoch, n_batches=n_batches, batch_size=batch_size)"
      ],
      "execution_count": null,
      "outputs": [
        {
          "output_type": "stream",
          "text": [
            "Progress so far: 0.0\n",
            "Progress so far: 0.2\n",
            "Progress so far: 0.4\n",
            "Progress so far: 0.6\n",
            "Progress so far: 0.8\n",
            "Running time: 2060.4775202274323 seconds\n"
          ],
          "name": "stdout"
        }
      ]
    },
    {
      "cell_type": "code",
      "metadata": {
        "id": "CC4UtYzCL5HU",
        "outputId": "14661e5e-1a0c-4de4-f2d5-01c893566f78",
        "colab": {
          "base_uri": "https://localhost:8080/",
          "height": 314
        }
      },
      "source": [
        "plt.figure(figsize=(10,4))\n",
        "plt.plot(error_best)\n",
        "plt.title(\"Error Rate vs No. of Epochs\")\n",
        "plt.ylabel(\"Error Rate\")\n",
        "plt.xlabel(\"No. of Epochs\")"
      ],
      "execution_count": null,
      "outputs": [
        {
          "output_type": "execute_result",
          "data": {
            "text/plain": [
              "Text(0.5, 0, 'No. of Epochs')"
            ]
          },
          "metadata": {
            "tags": []
          },
          "execution_count": 63
        },
        {
          "output_type": "display_data",
          "data": {
            "image/png": "[encoded data removed]",
            "text/plain": [
              "<Figure size 720x288 with 1 Axes>"
            ]
          },
          "metadata": {
            "tags": []
          }
        }
      ]
    },
    {
      "cell_type": "markdown",
      "metadata": {
        "id": "2Ei_dhcjOaeA"
      },
      "source": [
        "This is a beautiful graph showing the trade-off between bias and variance. As we run more epochs, model becomes more fit to the train set and resulting in overfitting after approximately the 10th epoch. Although train error rate will be lower and lower as we train more data, test error will actually rise. Our model does not learn the data any more but rather just memorise the data. Hence the optimal number of epochs should be 10. And our best model $$CNN_{best}=[Convolutional\\rightarrow Normalise]\\times 1\\rightarrow [Dense\\rightarrow Normalise]\\times 1 \\\\ \\text{   with Tangent Hyperbolic Activation, Convolutional Filter=16, Dense Units=16}$$ reported an error rate of $28.5\\text{%}$ at epoch 10. "
      ]
    },
    {
      "cell_type": "markdown",
      "metadata": {
        "id": "XUGx6AlIDq0A"
      },
      "source": [
        "# 4.Recurrent Neural Networks"
      ]
    },
    {
      "cell_type": "markdown",
      "metadata": {
        "id": "itPHexmSBwXn"
      },
      "source": [
        "## 4.1 Simple RNN\n",
        "\n",
        "We use tensorflow.keras to run the model. Every setting is the same as CNN except now we use a binary cross entropy loss instead of a softmax cross entropy loss with logits. They do not differ much in nature. Optimiser is still Adam. But now we will run through all data in each epoch instead of only 100 batches. We will run for 5 epochs to select the best model before comparing with the best CNN model with 15 epochs (the same parameter setting with section 3.7)"
      ]
    },
    {
      "cell_type": "code",
      "metadata": {
        "id": "YmaixWnHDKsb"
      },
      "source": [
        "#hyper parameters\n",
        "units = 512\n",
        "activation = tf.nn.tanh\n",
        "batch_size = 128\n",
        "n_epoch = 5"
      ],
      "execution_count": null,
      "outputs": []
    },
    {
      "cell_type": "code",
      "metadata": {
        "id": "L7ED8D0_IarG"
      },
      "source": [
        "def rnn(units,n_epoch=n_epoch,printing=True):\n",
        "  '''This function inputs number of units or widths in the simple RNN layer\n",
        "  and outputs error rate of the last epoch.. '''\n",
        "  \n",
        "  with tf.Graph().as_default():\n",
        "    model = tf.keras.Sequential()\n",
        "    tf.keras.layers.SimpleRNN(units=units,activation=activation)\n",
        "    model.add(tf.keras.layers.Dense(2, activation=tf.nn.relu))\n",
        "\n",
        "  with tf.Session(graph=tf.Graph()) as sess:\n",
        "    model.compile(optimizer='adam',loss='binary_crossentropy',metrics=['acc'])\n",
        "    history = model.fit(np.array(X_train), np.array(Y_train), batch_size=batch_size, \n",
        "                        epochs=n_epoch,verbose=printing)\n",
        "    results = model.evaluate(X_test, Y_test)\n",
        "    \n",
        "  return 1-results[1] #error=1-accuracy"
      ],
      "execution_count": null,
      "outputs": []
    },
    {
      "cell_type": "code",
      "metadata": {
        "id": "jq_hRdCIbCUt",
        "outputId": "3a4576d2-50e2-4afb-f0d0-30714b5b7542",
        "colab": {
          "base_uri": "https://localhost:8080/",
          "height": 235
        }
      },
      "source": [
        "rnn(units=units)"
      ],
      "execution_count": null,
      "outputs": [
        {
          "output_type": "stream",
          "text": [
            "Epoch 1/5\n",
            "197788/197788 [==============================] - 6s 30us/sample - loss: 1.8242 - acc: 0.5692\n",
            "Epoch 2/5\n",
            "197788/197788 [==============================] - 6s 29us/sample - loss: 1.7288 - acc: 0.6155\n",
            "Epoch 3/5\n",
            "197788/197788 [==============================] - 6s 29us/sample - loss: 0.6415 - acc: 0.6548\n",
            "Epoch 4/5\n",
            "197788/197788 [==============================] - 6s 28us/sample - loss: 0.6265 - acc: 0.6655\n",
            "Epoch 5/5\n",
            "197788/197788 [==============================] - 6s 32us/sample - loss: 0.6133 - acc: 0.6749\n",
            "21977/21977 [==============================] - 1s 43us/sample - loss: 0.6138 - acc: 0.6677\n"
          ],
          "name": "stdout"
        },
        {
          "output_type": "execute_result",
          "data": {
            "text/plain": [
              "0.3322564363479614"
            ]
          },
          "metadata": {
            "tags": []
          },
          "execution_count": 185
        }
      ]
    },
    {
      "cell_type": "markdown",
      "metadata": {
        "id": "mtytOROnDts1"
      },
      "source": [
        "## 4.2 Influence of Width\n",
        "\n"
      ]
    },
    {
      "cell_type": "code",
      "metadata": {
        "id": "a3GgzvAdOpQe",
        "outputId": "42ced15e-e015-47d4-ba18-4358035bb25f",
        "colab": {
          "base_uri": "https://localhost:8080/",
          "height": 308
        }
      },
      "source": [
        "param2_space = [16,32,64,128,256,512,1024,2048]\n",
        "param2 = np.zeros(8)\n",
        "for i,units_ in enumerate(param2_space):\n",
        "  print('Progress:',i/8)\n",
        "  param2[i] = rnn(units_) "
      ],
      "execution_count": null,
      "outputs": [
        {
          "output_type": "stream",
          "text": [
            "Progress: 0.0\n",
            "21977/21977 [==============================] - 1s 52us/sample - loss: 0.5979 - acc: 0.6806\n",
            "Progress: 0.125\n",
            "21977/21977 [==============================] - 1s 44us/sample - loss: 0.6070 - acc: 0.6672\n",
            "Progress: 0.25\n",
            "21977/21977 [==============================] - 1s 42us/sample - loss: 0.6056 - acc: 0.6710\n",
            "Progress: 0.375\n",
            "21977/21977 [==============================] - 1s 42us/sample - loss: 0.5972 - acc: 0.6765\n",
            "Progress: 0.5\n",
            "21977/21977 [==============================] - 1s 42us/sample - loss: 0.6005 - acc: 0.6765\n",
            "Progress: 0.625\n",
            "21977/21977 [==============================] - 1s 44us/sample - loss: 0.5933 - acc: 0.6805\n",
            "Progress: 0.75\n",
            "21977/21977 [==============================] - 1s 43us/sample - loss: 0.6188 - acc: 0.6551\n",
            "Progress: 0.875\n",
            "21977/21977 [==============================] - 1s 42us/sample - loss: 3.3961 - acc: 0.5825\n"
          ],
          "name": "stdout"
        }
      ]
    },
    {
      "cell_type": "code",
      "metadata": {
        "id": "GiC3qqJKhulz",
        "outputId": "ab1a9615-7fc7-4c3a-d4ea-14cd62673c6b",
        "colab": {
          "base_uri": "https://localhost:8080/",
          "height": 314
        }
      },
      "source": [
        "#influence of widths\n",
        "plt.figure(figsize=(10,4))\n",
        "plt.plot([np.log(i)/np.log(2) for i in param2_space],param2,color='red')\n",
        "plt.ylabel(\"Error Rate\")\n",
        "plt.xlabel(\"Units/Width in RNN layer (Log Scale, 2^?)\")\n",
        "plt.title(\"Error Rate\")"
      ],
      "execution_count": null,
      "outputs": [
        {
          "output_type": "execute_result",
          "data": {
            "text/plain": [
              "Text(0.5, 1.0, 'Error Rate')"
            ]
          },
          "metadata": {
            "tags": []
          },
          "execution_count": 195
        },
        {
          "output_type": "display_data",
          "data": {
            "image/png": "[encoded data removed]",
            "text/plain": [
              "<Figure size 720x288 with 1 Axes>"
            ]
          },
          "metadata": {
            "tags": []
          }
        }
      ]
    },
    {
      "cell_type": "markdown",
      "metadata": {
        "id": "BfdzcrcH-LAK"
      },
      "source": [
        "Greater width might not increase prediction accuracy, as is the case with CNN. It is probably because our data do not have too many features for the model to capture. Hence going deeper is basically overfitting. The best RNN model is thus simple RNN with units=16. "
      ]
    },
    {
      "cell_type": "markdown",
      "metadata": {
        "id": "XRX22XLU-jZ5"
      },
      "source": [
        "## 4.3 Train the Best RNN Model with More Data\n",
        "\n",
        "As before, we train our best RNN model with exactly the same setting of section 3.7 so that comparison can be made. "
      ]
    },
    {
      "cell_type": "code",
      "metadata": {
        "id": "CZt0Gz2V-9DH",
        "outputId": "69bd1330-f678-4687-c0fb-9bcf6b5f7645",
        "colab": {
          "base_uri": "https://localhost:8080/",
          "height": 35
        }
      },
      "source": [
        "#reset parameters\n",
        "n_epoch = 10\n",
        "units = 16\n",
        "\n",
        "error_best_rnn = rnn(units=16, n_epoch=n_epoch,printing=False)"
      ],
      "execution_count": null,
      "outputs": [
        {
          "output_type": "stream",
          "text": [
            "21977/21977 [==============================] - 1s 43us/sample - loss: 0.5968 - acc: 0.6849\n"
          ],
          "name": "stdout"
        }
      ]
    },
    {
      "cell_type": "code",
      "metadata": {
        "id": "xJHOYFCNAnvv",
        "outputId": "1dbe0926-1edb-4dff-e21f-77a600e4a7b7",
        "colab": {
          "base_uri": "https://localhost:8080/",
          "height": 35
        }
      },
      "source": [
        "print(\"Error rate for best RNN model is\",error_best_rnn)"
      ],
      "execution_count": null,
      "outputs": [
        {
          "output_type": "stream",
          "text": [
            "Error rate for best RNN model is 0.31510215997695923\n"
          ],
          "name": "stdout"
        }
      ]
    },
    {
      "cell_type": "markdown",
      "metadata": {
        "id": "8gtvO9_nDqvE"
      },
      "source": [
        "# 5. Naive Bayes"
      ]
    },
    {
      "cell_type": "code",
      "metadata": {
        "id": "SwLXb5AHiigy"
      },
      "source": [
        "def classify(model):\n",
        "  ''''''\n",
        "  \n",
        "  model.fit(X_train, Y_train.astype('int'))\n",
        "  predictions = model.predict(X_test)\n",
        "\n",
        "  return np.mean(np.array(predictions)!=np.array(Y_test))"
      ],
      "execution_count": null,
      "outputs": []
    },
    {
      "cell_type": "code",
      "metadata": {
        "id": "A3TVTeV2vZv3",
        "outputId": "522a1b70-70be-4d24-9656-908f5addbad8",
        "colab": {
          "base_uri": "https://localhost:8080/",
          "height": 35
        }
      },
      "source": [
        "bayes = classify(naive_bayes.MultinomialNB())\n",
        "print(\"Error rate for Naive Bayes:\",bayes)"
      ],
      "execution_count": null,
      "outputs": [
        {
          "output_type": "stream",
          "text": [
            "Error rate for Naive Bayes: 0.34495154024662145\n"
          ],
          "name": "stdout"
        }
      ]
    },
    {
      "cell_type": "markdown",
      "metadata": {
        "id": "KNnJUMtv_r0s"
      },
      "source": [
        "We can see that error rate for Naive Bayes classifier is 34.50% which is a lot higher than CNN and RNN. This means Logistic Regression and Linear Discriminant Analysis because they all have similar nature. It is thus unnecessary for us to try these two methods, but support vector machines, random forests (bagging) and boosting methods might be interesting, so are sparse methods like ridge, lasso and elastic nets. But for the purpose of this report we will not include those further. "
      ]
    },
    {
      "cell_type": "markdown",
      "metadata": {
        "id": "T3G3pUhZDqWt"
      },
      "source": [
        "# 6.Conclusion"
      ]
    },
    {
      "cell_type": "markdown",
      "metadata": {
        "id": "xot3qQnOGBEV"
      },
      "source": [
        "We have explored 3 different main methods for text classification on the data of politicians' tweets. After running 50 epochs, each with batch of 128 and running through all the data, here are \n",
        "\n",
        "* Convolutional Neural Network (CNN) has suggested the model $$CNN_{best}=[Convolutional\\rightarrow Normalise]\\times 1\\rightarrow [Dense\\rightarrow Normalise]\\times 1 \\\\ \\text{   with Tangent Hyperbolic Activation, Convolutional Filter=16, Dense Units=16}$$ with an error rate of $28.5\\text{%}$.\n",
        "\n",
        "* Recurrent Neural Network (RNN) has suggested a simple layer with $width=16$ and resulted in an error rate of $31.51\\text{%}$. \n",
        "\n",
        "* Naive Bayes classifier ended up with an error rate of $34.50\\text{%}$\n",
        "\n",
        "It is thus concluded that for our example, CNN consisting of 1 convolutional layer and 1 dense layer, with normalisation, small filters and width has the best prediction accuracy. "
      ]
    },
    {
      "cell_type": "markdown",
      "metadata": {
        "id": "uYG1YlCPBWrb"
      },
      "source": [
        "# Reference"
      ]
    },
    {
      "cell_type": "markdown",
      "metadata": {
        "id": "kKyw78tEBZ20"
      },
      "source": [
        "* Understanding the Disharmony between Dropout and Batch Normalization by Variance Shift https://arxiv.org/abs/1801.05134 \n",
        "\n",
        "* London School of Economics, Department of Statistics https://github.com/lse-st449/lectures\n",
        "\n",
        "* Performance Analysis of Various Activation Functions in\n",
        "Generalized MLP Architectures of Neural Networks http://www.cscjournals.org/manuscript/Journals/IJAE/Volume1/Issue4/IJAE-26.pdf \n",
        "\n",
        "* Tensorflow Keras Directory https://www.tensorflow.org/api_docs/python/tf/keras/models/Sequential\n",
        "\n",
        "* Maron, M. E. (1961). \"Automatic Indexing: An Experimental Inquiry\" (PDF). Journal of the ACM. 8 (3): 404–417. doi:10.1145/321075.321084."
      ]
    }
  ]
}